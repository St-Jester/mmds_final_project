{
  "nbformat": 4,
  "nbformat_minor": 0,
  "metadata": {
    "kernelspec": {
      "display_name": "Python 3",
      "language": "python",
      "name": "python3"
    },
    "language_info": {
      "codemirror_mode": {
        "name": "ipython",
        "version": 3
      },
      "file_extension": ".py",
      "mimetype": "text/x-python",
      "name": "python",
      "nbconvert_exporter": "python",
      "pygments_lexer": "ipython3",
      "version": "3.7.7"
    },
    "colab": {
      "name": "FinalProjectDocker.ipynb",
      "provenance": [],
      "include_colab_link": true
    }
  },
  "cells": [
    {
      "cell_type": "markdown",
      "metadata": {
        "id": "view-in-github",
        "colab_type": "text"
      },
      "source": [
        "<a href=\"https://colab.research.google.com/github/St-Jester/mmds_final_project/blob/main/FinalProjectDocker.ipynb\" target=\"_parent\"><img src=\"https://colab.research.google.com/assets/colab-badge.svg\" alt=\"Open In Colab\"/></a>"
      ]
    },
    {
      "cell_type": "code",
      "metadata": {
        "id": "M_fm08w3F493",
        "outputId": "2c5ec9ba-466f-4850-ba63-4ebbbce4c37c"
      },
      "source": [
        "from IPython.core.display import display, HTML\n",
        "display(HTML(\"<style>.container { width:100% !important; }</style>\"))\n",
        "display(HTML(\"<style>pre { white-space: pre !important; }</style>\"))"
      ],
      "execution_count": null,
      "outputs": [
        {
          "output_type": "display_data",
          "data": {
            "text/html": [
              "<style>.container { width:100% !important; }</style>"
            ],
            "text/plain": [
              "<IPython.core.display.HTML object>"
            ]
          },
          "metadata": {
            "tags": []
          }
        },
        {
          "output_type": "display_data",
          "data": {
            "text/html": [
              "<style>pre { white-space: pre !important; }</style>"
            ],
            "text/plain": [
              "<IPython.core.display.HTML object>"
            ]
          },
          "metadata": {
            "tags": []
          }
        }
      ]
    },
    {
      "cell_type": "markdown",
      "metadata": {
        "id": "PgyTXu7RF499"
      },
      "source": [
        "This is a final project for Mining Massive Datasets course for master program UCU. <br>\n",
        "The project was done by Kateryna Zabava and Bohdan Matviiv.\n",
        "\n",
        "Here we use sseclient to read stream from wiki. we first read 20% of dataset. the approach is described is the cell.\n",
        "\n",
        "Next we train the model RandomForestClassifier using features \"comment\", \"title\", \"type\". \n",
        "\n",
        "\"comment\", \"title\" were prepared using Tf-Idf approach.\n",
        "\n",
        "Model results reported in сorresponding cells. \n",
        "\n",
        "\n",
        "After this we used data to test our model. we used 2 bloom filters: one for true users and one for bots. This is done to improve the accracy of the filter.\n",
        "\n",
        "Our filters are set to show error rate of 10%\n",
        "\n",
        "the report with results is presented in the end of the work."
      ]
    },
    {
      "cell_type": "code",
      "metadata": {
        "id": "5snkVkIQF49-",
        "outputId": "a39ff95d-94d2-43fe-9053-7c66476eed1d"
      },
      "source": [
        "!pip install sseclient"
      ],
      "execution_count": null,
      "outputs": [
        {
          "output_type": "stream",
          "text": [
            "Requirement already satisfied: sseclient in /opt/conda/lib/python3.8/site-packages (0.0.27)\n",
            "Requirement already satisfied: six in /opt/conda/lib/python3.8/site-packages (from sseclient) (1.15.0)\n",
            "Requirement already satisfied: requests>=2.9 in /opt/conda/lib/python3.8/site-packages (from sseclient) (2.24.0)\n",
            "Requirement already satisfied: certifi>=2017.4.17 in /opt/conda/lib/python3.8/site-packages (from requests>=2.9->sseclient) (2020.6.20)\n",
            "Requirement already satisfied: chardet<4,>=3.0.2 in /opt/conda/lib/python3.8/site-packages (from requests>=2.9->sseclient) (3.0.4)\n",
            "Requirement already satisfied: idna<3,>=2.5 in /opt/conda/lib/python3.8/site-packages (from requests>=2.9->sseclient) (2.10)\n",
            "Requirement already satisfied: urllib3!=1.25.0,!=1.25.1,<1.26,>=1.21.1 in /opt/conda/lib/python3.8/site-packages (from requests>=2.9->sseclient) (1.25.11)\n"
          ],
          "name": "stdout"
        }
      ]
    },
    {
      "cell_type": "code",
      "metadata": {
        "id": "JIrMRxlaF49-",
        "outputId": "52e83ba6-088d-41f5-baac-f48eb6b41424"
      },
      "source": [
        "!pip install bloom-filter"
      ],
      "execution_count": null,
      "outputs": [
        {
          "output_type": "stream",
          "text": [
            "Requirement already satisfied: bloom-filter in /opt/conda/lib/python3.8/site-packages (1.3)\r\n"
          ],
          "name": "stdout"
        }
      ]
    },
    {
      "cell_type": "code",
      "metadata": {
        "id": "vHfEEWhgF49_"
      },
      "source": [
        "from pyspark.sql import SparkSession\n",
        "from pyspark import SparkContext\n",
        "\n",
        "spark = SparkSession.builder.master(\"local[*]\").getOrCreate()\n",
        "sc = SparkContext.getOrCreate()"
      ],
      "execution_count": null,
      "outputs": []
    },
    {
      "cell_type": "code",
      "metadata": {
        "id": "25YyyUlGF49_",
        "outputId": "b24ebe7a-1cda-4f50-d1f1-deb59da744aa"
      },
      "source": [
        "sc.version "
      ],
      "execution_count": null,
      "outputs": [
        {
          "output_type": "execute_result",
          "data": {
            "text/plain": [
              "'3.0.1'"
            ]
          },
          "metadata": {
            "tags": []
          },
          "execution_count": 73
        }
      ]
    },
    {
      "cell_type": "markdown",
      "metadata": {
        "id": "eQt-FlUGF49_"
      },
      "source": [
        "## Get 20% of data to train"
      ]
    },
    {
      "cell_type": "code",
      "metadata": {
        "id": "anSVkS8OF4-A",
        "outputId": "bf8cf9c5-0019-438f-d893-8129f0f8d53d"
      },
      "source": [
        "##new version with sampling\n",
        "#gets 20% of data using hash. hash gives us string of numbers and we select an entry if last 2 digits are last_digit==4 or last_digit==9. \n",
        "# this means that we have probability of this event of 20% and it reflects on the dataset as 20% of stream entries\n",
        "import json\n",
        "from sseclient import SSEClient as EventSource\n",
        "# use sinse to speed up the process of working\n",
        "url = 'https://stream.wikimedia.org/v2/stream/recentchange?since=2020-09-22T19:05:11.866740'\n",
        "wiki = 'enwiki' #Client side filter\n",
        "counter = 0 \n",
        "sample_counter = 0\n",
        "# maxEvents = 1000 # print n events and stop\n",
        "max_sampled_events = 10000 # required ammount of sample \n",
        "\n",
        "users = {}\n",
        "changes = []\n",
        "changes_sample = []\n",
        "\n",
        "start = time.time()\n",
        "for event in EventSource(url):\n",
        "    if event.event == 'message':\n",
        "        try:\n",
        "            change = json.loads(event.data)\n",
        "        except ValueError:\n",
        "            continue\n",
        "        if change['wiki'] == wiki:\n",
        "            users[change['user']] = change['wiki']\n",
        "            change.pop('meta', None)\n",
        "            \n",
        "            \n",
        "            change_json = json.dumps(change, indent = 4)   \n",
        "#             changes.append(change_json)\n",
        "\n",
        "            last_digit = hash(change_json) % 10 \n",
        "            if last_digit==4 or last_digit==9:\n",
        "                changes_sample.append(change_json)\n",
        "                if sample_counter%(max_sampled_events/10) == 0:\n",
        "                    sub_end = time.time()\n",
        "                    print(f\"{sub_end - start}s : done {sample_counter}\")\n",
        "                sample_counter +=1\n",
        "                \n",
        "              \n",
        "            counter += 1 \n",
        "            if sample_counter == max_sampled_events:\n",
        "                print('finished')\n",
        "                break\n",
        "                \n",
        "                \n",
        "end = time.time()\n",
        "print(\"Time elapsed %.2f seconds\" % (end - start) )"
      ],
      "execution_count": null,
      "outputs": [
        {
          "output_type": "stream",
          "text": [
            "0.8165695667266846s : done 0\n",
            "14.301051616668701s : done 1000\n",
            "27.792379140853882s : done 2000\n",
            "43.64147639274597s : done 3000\n",
            "53.19105935096741s : done 4000\n",
            "63.38219237327576s : done 5000\n",
            "75.39816784858704s : done 6000\n",
            "88.42375063896179s : done 7000\n",
            "96.55106949806213s : done 8000\n",
            "105.18387794494629s : done 9000\n",
            "finished\n",
            "Time elapsed 115.34 seconds\n"
          ],
          "name": "stdout"
        }
      ]
    },
    {
      "cell_type": "code",
      "metadata": {
        "id": "m28VKaqeF4-A",
        "outputId": "e5d7057b-1973-4a05-a47d-af3135595507"
      },
      "source": [
        "df = spark.read.json(sc.parallelize(changes_sample))\n",
        "df.show(10, truncate=False)"
      ],
      "execution_count": null,
      "outputs": [
        {
          "output_type": "stream",
          "text": [
            "+-----------------------------+-----+----------------------------------------------------------------------------------------------------------------------------------------------------------------------------+----------+--------------+----------+------------------+------+----------+--------+-----+---------+-------------------------------------------------------------------------------------------------------------------------------------------------------------------------------------------------------------------------------------------------------------------------------------------------------------------------------------------------------------------------------+---------+----------------------+----------------+------------------+------------------------+----------+------------------------------------------------------------------------+----------+------------+------+\n",
            "|$schema                      |bot  |comment                                                                                                                                                                     |id        |length        |log_action|log_action_comment|log_id|log_params|log_type|minor|namespace|parsedcomment                                                                                                                                                                                                                                                                                                                                                                  |patrolled|revision              |server_name     |server_script_path|server_url              |timestamp |title                                                                   |type      |user        |wiki  |\n",
            "+-----------------------------+-----+----------------------------------------------------------------------------------------------------------------------------------------------------------------------------+----------+--------------+----------+------------------+------+----------+--------+-----+---------+-------------------------------------------------------------------------------------------------------------------------------------------------------------------------------------------------------------------------------------------------------------------------------------------------------------------------------------------------------------------------------+---------+----------------------+----------------+------------------+------------------------+----------+------------------------------------------------------------------------+----------+------------+------+\n",
            "|/mediawiki/recentchange/1.0.0|false|/* Personal life */                                                                                                                                                         |1320859693|[40458, 40458]|null      |null              |null  |null      |null    |false|0        |<span dir=\"auto\"><span class=\"autocomment\"><a href=\"/wiki/Suggs_(singer)#Personal_life\" title=\"Suggs (singer)\">→‎Personal life</a></span></span>                                                                                                                                                                                                                               |null     |[988877717, 980481683]|en.wikipedia.org|/w                |https://en.wikipedia.org|1605470651|Suggs (singer)                                                          |edit      |RockNWrite82|enwiki|\n",
            "|/mediawiki/recentchange/1.0.0|true |Removed parameters. | You can [[WP:UCB|use this bot]] yourself. [[WP:DBUG|Report bugs here]]. | Suggested by Abductive | [[Category:1944 films]] | via #UCB_Category 642/808|1320859685|[8789, 8812]  |null      |null              |null  |null      |null    |false|0        |Removed parameters. | You can <a href=\"/wiki/Wikipedia:UCB\" class=\"mw-redirect\" title=\"Wikipedia:UCB\">use this bot</a> yourself. <a href=\"/wiki/Wikipedia:DBUG\" class=\"mw-redirect\" title=\"Wikipedia:DBUG\">Report bugs here</a>. | Suggested by Abductive | <a href=\"/wiki/Category:1944_films\" title=\"Category:1944 films\">Category:1944 films</a> | via #UCB_Category 642/808|null     |[988877697, 983840174]|en.wikipedia.org|/w                |https://en.wikipedia.org|1605470643|Frenchman's Creek (film)                                                |edit      |Citation bot|enwiki|\n",
            "|/mediawiki/recentchange/1.0.0|true |[[:Crash Goes the Hash]] removed from category, [[Special:WhatLinksHere/Crash Goes the Hash|this page is included within other pages]]                                      |1320859697|null          |null      |null              |null  |null      |null    |null |14       |<a href=\"/wiki/Crash_Goes_the_Hash\" title=\"Crash Goes the Hash\">Crash Goes the Hash</a> removed from category, <a href=\"/wiki/Special:WhatLinksHere/Crash_Goes_the_Hash\" title=\"Special:WhatLinksHere/Crash Goes the Hash\">this page is included within other pages</a>                                                                                                        |null     |null                  |en.wikipedia.org|/w                |https://en.wikipedia.org|1605470650|Category:CS1 errors: empty unknown parameters                           |categorize|Citation bot|enwiki|\n",
            "|/mediawiki/recentchange/1.0.0|false|                                                                                                                                                                            |1320859699|[11683, 11683]|null      |null              |null  |null      |null    |false|4        |                                                                                                                                                                                                                                                                                                                                                                               |null     |[988877718, 988877665]|en.wikipedia.org|/w                |https://en.wikipedia.org|1605470651|Wikipedia:Articles for deletion/Presidency of Joe Biden (2nd nomination)|edit      |Reywas92    |enwiki|\n",
            "|/mediawiki/recentchange/1.0.0|false|Reverted 1 edit by [[Special:Contributions/47.148.176.68|47.148.176.68]] ([[User talk:47.148.176.68|talk]]) to last revision by 96.5.139.3                                  |1320859703|[18530, 18527]|null      |null              |null  |null      |null    |true |0        |Reverted 1 edit by <a href=\"/wiki/Special:Contributions/47.148.176.68\" title=\"Special:Contributions/47.148.176.68\">47.148.176.68</a> (<a href=\"/w/index.php?title=User_talk:47.148.176.68&amp;action=edit&amp;redlink=1\" class=\"new\" title=\"User talk:47.148.176.68 (page does not exist)\">talk</a>) to last revision by 96.5.139.3                                            |null     |[988877716, 988870449]|en.wikipedia.org|/w                |https://en.wikipedia.org|1605470650|Pigeon post                                                             |edit      |Matt Deres  |enwiki|\n",
            "|/mediawiki/recentchange/1.0.0|false|General note: Unconstructive editing on [[:Pigeon post]].                                                                                                                   |1320859749|[963,]        |null      |null              |null  |null      |null    |false|3        |General note: Unconstructive editing on <a href=\"/wiki/Pigeon_post\" title=\"Pigeon post\">Pigeon post</a>.                                                                                                                                                                                                                                                                       |false    |[988877736,]          |en.wikipedia.org|/w                |https://en.wikipedia.org|1605470657|User talk:47.148.176.68                                                 |new       |Matt Deres  |enwiki|\n",
            "|/mediawiki/recentchange/1.0.0|false|[[:File:Armin van Buuren - Sunny Days (Club Mix).jpg]] added to category                                                                                                    |1320859754|null          |null      |null              |null  |null      |null    |null |14       |<a href=\"/wiki/File:Armin_van_Buuren_-_Sunny_Days_(Club_Mix).jpg\" title=\"File:Armin van Buuren - Sunny Days (Club Mix).jpg\">File:Armin van Buuren - Sunny Days (Club Mix).jpg</a> added to category                                                                                                                                                                            |null     |null                  |en.wikipedia.org|/w                |https://en.wikipedia.org|1605470657|Category:Wikipedia non-free files for NFUR review                       |categorize|Unistra     |enwiki|\n",
            "|/mediawiki/recentchange/1.0.0|false|[[:Honduras national football team]] added to category, [[Special:WhatLinksHere/Honduras national football team|this page is included within other pages]]                  |1320859757|null          |null      |null              |null  |null      |null    |null |14       |<a href=\"/wiki/Honduras_national_football_team\" title=\"Honduras national football team\">Honduras national football team</a> added to category, <a href=\"/wiki/Special:WhatLinksHere/Honduras_national_football_team\" title=\"Special:WhatLinksHere/Honduras national football team\">this page is included within other pages</a>                                                |null     |null                  |en.wikipedia.org|/w                |https://en.wikipedia.org|1605470627|Category:Use dmy dates from November 2020                               |categorize|SpinnDoctor |enwiki|\n",
            "|/mediawiki/recentchange/1.0.0|false|[[:Honduras national football team]] removed from category, [[Special:WhatLinksHere/Honduras national football team|this page is included within other pages]]              |1320859758|null          |null      |null              |null  |null      |null    |null |14       |<a href=\"/wiki/Honduras_national_football_team\" title=\"Honduras national football team\">Honduras national football team</a> removed from category, <a href=\"/wiki/Special:WhatLinksHere/Honduras_national_football_team\" title=\"Special:WhatLinksHere/Honduras national football team\">this page is included within other pages</a>                                            |null     |null                  |en.wikipedia.org|/w                |https://en.wikipedia.org|1605470627|Category:Use dmy dates from October 2020                                |categorize|SpinnDoctor |enwiki|\n",
            "|/mediawiki/recentchange/1.0.0|false|/* Published works */                                                                                                                                                       |1320859761|[49044, 48874]|null      |null              |null  |null      |null    |false|0        |<span dir=\"auto\"><span class=\"autocomment\"><a href=\"/wiki/Ishmael_Reed#Published_works\" title=\"Ishmael Reed\">→‎Published works</a></span></span>                                                                                                                                                                                                                               |null     |[988877740, 988876677]|en.wikipedia.org|/w                |https://en.wikipedia.org|1605470659|Ishmael Reed                                                            |edit      |Skirtdancer |enwiki|\n",
            "+-----------------------------+-----+----------------------------------------------------------------------------------------------------------------------------------------------------------------------------+----------+--------------+----------+------------------+------+----------+--------+-----+---------+-------------------------------------------------------------------------------------------------------------------------------------------------------------------------------------------------------------------------------------------------------------------------------------------------------------------------------------------------------------------------------+---------+----------------------+----------------+------------------+------------------------+----------+------------------------------------------------------------------------+----------+------------+------+\n",
            "only showing top 10 rows\n",
            "\n"
          ],
          "name": "stdout"
        }
      ]
    },
    {
      "cell_type": "code",
      "metadata": {
        "id": "tPWcWpeOF4-A",
        "outputId": "19552f0c-4094-4d36-fd0e-a3475dfcdeae"
      },
      "source": [
        "df.count()"
      ],
      "execution_count": null,
      "outputs": [
        {
          "output_type": "execute_result",
          "data": {
            "text/plain": [
              "10000"
            ]
          },
          "metadata": {
            "tags": []
          },
          "execution_count": 140
        }
      ]
    },
    {
      "cell_type": "code",
      "metadata": {
        "id": "ICI0j6CrF4-B"
      },
      "source": [
        "# cast types -- needed for the model to correclty detect labels\n",
        "from pyspark.sql.types import DoubleType\n",
        "df = df.withColumn(\"bot_int\", df.bot.cast('integer'))\n"
      ],
      "execution_count": null,
      "outputs": []
    },
    {
      "cell_type": "code",
      "metadata": {
        "id": "SLv_diPAF4-B"
      },
      "source": [
        "# bloom filter with error_rate=0.1 will be used later\n",
        "# from bloom_filter import BloomFilter\n",
        "# bloom = BloomFilter(error_rate=0.1)"
      ],
      "execution_count": null,
      "outputs": []
    },
    {
      "cell_type": "code",
      "metadata": {
        "id": "6hoLPYy2F4-B"
      },
      "source": [
        ""
      ],
      "execution_count": null,
      "outputs": []
    },
    {
      "cell_type": "code",
      "metadata": {
        "scrolled": false,
        "id": "VAD1UsQZF4-B",
        "outputId": "083653db-48d7-4203-f643-e7efe2bd91d6"
      },
      "source": [
        "from pyspark.ml import Pipeline\n",
        "from pyspark.ml.classification import RandomForestClassifier\n",
        "from pyspark.ml.feature import IndexToString, StringIndexer, VectorIndexer\n",
        "from pyspark.ml.evaluation import BinaryClassificationEvaluator\n",
        "from pyspark.ml.feature import HashingTF, IDF, Tokenizer\n",
        "from pyspark.ml.tuning import CrossValidator, ParamGridBuilder, TrainValidationSplit\n",
        "from pyspark.ml.feature import VectorAssembler\n",
        "import time\n",
        "# Load and parse the data file, converting it to a DataFrame.\n",
        "data = df\n",
        "\n",
        "\n",
        "# todo: perforn tf-idf\n",
        "tokenizer = Tokenizer(inputCol=\"comment\", outputCol=\"words\")\n",
        "hashingTF = HashingTF(inputCol=\"words\", outputCol=\"rawFeatures\", numFeatures=20)\n",
        "idf = IDF(inputCol=\"rawFeatures\", outputCol=\"features\")\n",
        "\n",
        "tokenizer_title = Tokenizer(inputCol=\"title\", outputCol=\"words_title\")\n",
        "hashingTF_title = HashingTF(inputCol=\"words_title\", outputCol=\"rawFeatures_title\", numFeatures=20)\n",
        "idf_title = IDF(inputCol=\"rawFeatures_title\", outputCol=\"features_title\")\n",
        "\n",
        "stringIndexer1 = StringIndexer(inputCol=\"type\", outputCol=\"indexedType\")\n",
        "\n",
        "assembler = VectorAssembler(inputCols=['features', 'features_title', 'indexedType'], outputCol=\"features_vectorized\")\n",
        "\n",
        "\n",
        "stringIndexer = StringIndexer(inputCol=\"bot_int\", outputCol=\"label\")\n",
        "\n",
        "# Split the data into training and test sets (30% held out for testing)\n",
        "# (trainingData, testData) = data.randomSplit([0.8, 0.2])\n",
        "\n",
        "# Train a RandomForest model.\n",
        "rf = RandomForestClassifier(labelCol=\"label\", featuresCol=\"features_vectorized\")\n",
        "\n",
        "# Chain indexers and forest in a Pipeline\n",
        "pipeline = Pipeline(stages=[tokenizer,hashingTF, idf,tokenizer_title,hashingTF_title, idf_title,stringIndexer1, assembler, stringIndexer, rf])\n",
        "\n",
        "\n",
        "paramGrid = ParamGridBuilder() \\\n",
        "    .addGrid(hashingTF.numFeatures, [10,15,20]) \\\n",
        "    .addGrid(hashingTF_title.numFeatures, [10,15,20]) \\\n",
        "    .addGrid(rf.numTrees, [15, 12, 9]) \\\n",
        "    .build()\n",
        "\n",
        "evaluator=BinaryClassificationEvaluator(labelCol=\"bot_int\", metricName=\"areaUnderROC\")\n",
        "\n",
        "tvs = TrainValidationSplit(estimator=pipeline,\n",
        "                           estimatorParamMaps=paramGrid,\n",
        "                           evaluator=evaluator,\n",
        "                           # 80% of the data will be used for training, 20% for validation.\n",
        "                           trainRatio=0.8)\n",
        "\n",
        "\n",
        "\n",
        "\n",
        "# Train model.  This also runs the indexers.\n",
        "\n",
        "\n",
        "start = time.time()\n",
        "model = tvs.fit(data)\n",
        "end = time.time()\n",
        "print(\"Time elapsed %.2f seconds\" % (end - start) )\n",
        "\n",
        "best_model = model.bestModel\n",
        "\n"
      ],
      "execution_count": null,
      "outputs": [
        {
          "output_type": "stream",
          "text": [
            "Time elapsed 52.45 seconds\n"
          ],
          "name": "stdout"
        }
      ]
    },
    {
      "cell_type": "code",
      "metadata": {
        "id": "b7W1W-X3F4-C",
        "outputId": "a4fdf7d4-254d-4804-dd45-3f3146b875d8"
      },
      "source": [
        "evaluator.evaluate(best_model.transform(df))\n",
        "# AUC"
      ],
      "execution_count": null,
      "outputs": [
        {
          "output_type": "execute_result",
          "data": {
            "text/plain": [
              "0.8884078385901295"
            ]
          },
          "metadata": {
            "tags": []
          },
          "execution_count": 144
        }
      ]
    },
    {
      "cell_type": "code",
      "metadata": {
        "id": "8PBXmGpxF4-C",
        "outputId": "0fca5dcc-beb7-4e67-e4f0-fd3f98c7d14b"
      },
      "source": [
        "evaluator.evaluate(best_model.transform(df), {evaluator.metricName: \"areaUnderPR\"})"
      ],
      "execution_count": null,
      "outputs": [
        {
          "output_type": "execute_result",
          "data": {
            "text/plain": [
              "0.7335895841462454"
            ]
          },
          "metadata": {
            "tags": []
          },
          "execution_count": 145
        }
      ]
    },
    {
      "cell_type": "code",
      "metadata": {
        "id": "U8dpJaH1F4-C"
      },
      "source": [
        "# save model in file\n",
        "model_path = \"./model/2\"\n",
        "tvs.write().save(model_path)"
      ],
      "execution_count": null,
      "outputs": []
    },
    {
      "cell_type": "code",
      "metadata": {
        "id": "fy_KdUGcF4-D"
      },
      "source": [
        ""
      ],
      "execution_count": null,
      "outputs": []
    },
    {
      "cell_type": "code",
      "metadata": {
        "id": "hqmNxeugF4-D",
        "outputId": "69033b71-4026-4d3d-93aa-6f4e3c170a74"
      },
      "source": [
        "# save model params\n",
        "rfModel = best_model.stages[9]\n",
        "hashingTFModel = best_model.stages[1]\n",
        "hashingTFModel2 = best_model.stages[4]\n",
        "print(\"\\nBest  parameters:\")\n",
        "print(\"RandomForestClassifier getnumTrees %.i\" % rfModel.getNumTrees)\n",
        "print(\"hashingTF %.i\" % hashingTFModel.getNumFeatures())\n",
        "print(\"hashingTF1 %.i\" % hashingTFModel2.getNumFeatures())"
      ],
      "execution_count": null,
      "outputs": [
        {
          "output_type": "stream",
          "text": [
            "\n",
            "Best  parameters:\n",
            "RandomForestClassifier getnumTrees 15\n",
            "hashingTF 20\n",
            "hashingTF1 15\n"
          ],
          "name": "stdout"
        }
      ]
    },
    {
      "cell_type": "code",
      "metadata": {
        "id": "bLq-rMZoF4-D"
      },
      "source": [
        "best_model_getNumTrees = rfModel.getNumTrees\n",
        "best_hashingTFModel = hashingTFModel.getNumFeatures()\n",
        "best_hashingTFModel2 = hashingTFModel2.getNumFeatures()"
      ],
      "execution_count": null,
      "outputs": []
    },
    {
      "cell_type": "code",
      "metadata": {
        "id": "0UyAkPjRF4-D"
      },
      "source": [
        ""
      ],
      "execution_count": null,
      "outputs": []
    },
    {
      "cell_type": "code",
      "metadata": {
        "id": "iVvkkRmEF4-D"
      },
      "source": [
        ""
      ],
      "execution_count": null,
      "outputs": []
    },
    {
      "cell_type": "code",
      "metadata": {
        "id": "g9u2Au5EF4-D"
      },
      "source": [
        ""
      ],
      "execution_count": null,
      "outputs": []
    },
    {
      "cell_type": "code",
      "metadata": {
        "id": "tmjGnzDVF4-E"
      },
      "source": [
        ""
      ],
      "execution_count": null,
      "outputs": []
    },
    {
      "cell_type": "code",
      "metadata": {
        "id": "JDqUY_QsF4-E"
      },
      "source": [
        ""
      ],
      "execution_count": null,
      "outputs": []
    },
    {
      "cell_type": "code",
      "metadata": {
        "id": "ptX_q20AF4-E"
      },
      "source": [
        ""
      ],
      "execution_count": null,
      "outputs": []
    },
    {
      "cell_type": "code",
      "metadata": {
        "id": "OweYbU3AF4-E"
      },
      "source": [
        ""
      ],
      "execution_count": null,
      "outputs": []
    },
    {
      "cell_type": "markdown",
      "metadata": {
        "id": "s3314EghF4-E"
      },
      "source": [
        ""
      ]
    },
    {
      "cell_type": "code",
      "metadata": {
        "id": "eY_aJyJMF4-E"
      },
      "source": [
        ""
      ],
      "execution_count": null,
      "outputs": []
    },
    {
      "cell_type": "code",
      "metadata": {
        "id": "YgeyjbfHF4-F"
      },
      "source": [
        ""
      ],
      "execution_count": null,
      "outputs": []
    },
    {
      "cell_type": "markdown",
      "metadata": {
        "id": "gZACrZuBF4-F"
      },
      "source": [
        "## Usage of dataframe of test data with bloom filter \n",
        "Get 80% of data to test\n",
        "\n"
      ]
    },
    {
      "cell_type": "code",
      "metadata": {
        "id": "cFt_0k9XF4-F"
      },
      "source": [
        ""
      ],
      "execution_count": null,
      "outputs": []
    },
    {
      "cell_type": "code",
      "metadata": {
        "id": "rr86RB8dF4-F",
        "outputId": "09997150-e60e-4a6b-d506-726f910c9ad1"
      },
      "source": [
        "# because data is gathered after more than 1 month it will not intersect with test data\n",
        "# this approach is done to simulate new data in a stream to show in practice how the filter works\n",
        "# the result of this cell will be the dataframe presumably without bots, we will evaluate accuracy in the next cells\n",
        "# the amount of data is 4 times bigger than the one we used for trainig so it is 80% of the dataset\n",
        "url = 'https://stream.wikimedia.org/v2/stream/recentchange?since=2020-11-25T19:05:11.866740'\n",
        "wiki = 'enwiki' #Client side filter\n",
        "counter = 0 \n",
        "sample_counter = 0\n",
        "maxEvents = 100 # print n events and stop\n",
        "max_sampled_events = 40000 # required ammount of sample \n",
        "\n",
        "users = {}\n",
        "changes_test = []\n",
        "changes_sample_test  = []\n",
        "\n",
        "bloom_for_bots = BloomFilter(error_rate=0.1)\n",
        "bloom_for_users = BloomFilter(error_rate=0.1)\n",
        "\n",
        "user_changes = []\n",
        "\n",
        "start = time.time()\n",
        "\n",
        "for event in EventSource(url):\n",
        "    if event.event == 'message':\n",
        "        try:\n",
        "            change = json.loads(event.data)\n",
        "        except ValueError:\n",
        "            continue\n",
        "        if change['wiki'] == wiki:\n",
        "            users[change['user']] = change['wiki']\n",
        "            change.pop('meta', None)\n",
        "            change.pop('length', None)\n",
        "            change.pop('revision', None)\n",
        "\n",
        "            user_name = change['user']\n",
        "            \n",
        "            change_json = json.dumps(change, indent = 4)  \n",
        "\n",
        "            # do one-row dataframe\n",
        "            df_test = spark.read.json(sc.parallelize([change_json]))\n",
        "            # include check for nonbot_bloom / user_bloom\n",
        "            #  do it like in bloom but invert the conditions\n",
        "            #  1. check if user is in nonbot_bloom if yes - skip if no - go to bot bloom\n",
        "            #  this one is done under comment bot filter\n",
        "            # make it work with preditictions\n",
        "              \n",
        "            \n",
        "            if not user_name in bloom_for_users:\n",
        "                if not user_name in bloom_for_bots:\n",
        "                    prediction = best_model.transform(df_test)\n",
        "                    is_bot = bool(prediction.first()['prediction'])\n",
        "\n",
        "                    if not is_bot:\n",
        "                        user_changes.append(change_json)\n",
        "                        bloom_for_users.add(user_name)\n",
        "#                         print(user_name+\" is added in bloom for users\")\n",
        "                    else:\n",
        "                        bloom_for_bots.add(user_name)\n",
        "#                         print(user_name+\" is added in bloom for bots\")\n",
        "#                 else:\n",
        "#                      print(user_name+\" is in bot bloom\")    \n",
        "\n",
        "            else:\n",
        "                user_changes.append(change_json)\n",
        "#                 print(user_name+\" is in user bloom\")        \n",
        "            \n",
        "            if sample_counter%(max_sampled_events/20) == 0:\n",
        "                sub_end = time.time()\n",
        "                print(f\"{sub_end - start}s : done {sample_counter}\")\n",
        "            sample_counter += 1 \n",
        "            if sample_counter >= max_sampled_events:\n",
        "                print('finished')\n",
        "                break\n",
        "                \n",
        "                \n",
        "end = time.time()\n",
        "print(\"Time elapsed %.2f seconds\" % (end - start) )"
      ],
      "execution_count": null,
      "outputs": [
        {
          "output_type": "stream",
          "text": [
            "1.201122522354126s : done 0\n",
            "394.76708126068115s : done 2000\n",
            "721.5588600635529s : done 4000\n",
            "\n",
            "1032.3641571998596s : done 6000\n",
            "1348.3908681869507s : done 8000\n",
            "1654.809594154358s : done 10000\n",
            "\n",
            "1956.0495119094849s : done 12000\n",
            "2250.9215009212494s : done 14000\n",
            "2542.1904470920563s : done 16000\n",
            "\n",
            "2837.175495147705s : done 18000\n",
            "3129.6046516895294s : done 20000\n",
            "3412.8097870349884s : done 22000\n",
            "\n",
            "3712.313220024109s : done 24000\n",
            "4000.6311600208282s : done 26000\n",
            "4287.753336429596s : done 28000\n",
            "4578.250812768936s : done 30000\n",
            "\n",
            "4869.979730844498s : done 32000\n",
            "5156.509130477905s : done 34000\n",
            "5453.156987428665s : done 36000\n",
            "\n",
            "5744.8152396678925s : done 38000\n",
            "finished\n",
            "Time elapsed 6030.34 seconds\n"
          ],
          "name": "stdout"
        }
      ]
    },
    {
      "cell_type": "code",
      "metadata": {
        "id": "Qr2YiWuUF4-I",
        "outputId": "4e4def8a-3e3a-40a1-fbde-31e2129ee320"
      },
      "source": [
        "user_changesdf = spark.read.json(sc.parallelize(user_changes))\n",
        "user_changesdf.show(5, truncate=False)"
      ],
      "execution_count": null,
      "outputs": [
        {
          "output_type": "stream",
          "text": [
            "+-----------------------------+-----+--------------------------------------------------------------------------------------------------------------------------------------------------------------------+----------+----------+------------------+------+----------+--------+-----+---------+-----------------------------------------------------------------------------------------------------------------------------------------------------------------------------------------------------------------------------------------------------------------------------------------------------------------------------------------------------------------------------------------------------------------+---------+----------------+------------------+------------------------+----------+------------------------------------------------+----+--------------+------+\n",
            "|$schema                      |bot  |comment                                                                                                                                                             |id        |log_action|log_action_comment|log_id|log_params|log_type|minor|namespace|parsedcomment                                                                                                                                                                                                                                                                                                                                                                                                    |patrolled|server_name     |server_script_path|server_url              |timestamp |title                                           |type|user          |wiki  |\n",
            "+-----------------------------+-----+--------------------------------------------------------------------------------------------------------------------------------------------------------------------+----------+----------+------------------+------+----------+--------+-----+---------+-----------------------------------------------------------------------------------------------------------------------------------------------------------------------------------------------------------------------------------------------------------------------------------------------------------------------------------------------------------------------------------------------------------------+---------+----------------+------------------+------------------------+----------+------------------------------------------------+----+--------------+------+\n",
            "|/mediawiki/recentchange/1.0.0|true |Signing comment by [[Special:Contributions/2001:1C02:2B22:F400:E9F0:B26A:30FE:6A8C|2001:1C02:2B22:F400:E9F0:B26A:30FE:6A8C]] - \"/* Monte Carlo edits */ new section\"|1324053745|null      |null              |null  |null      |null    |true |3        |Signing comment by <a href=\"/wiki/Special:Contributions/2001:1C02:2B22:F400:E9F0:B26A:30FE:6A8C\" title=\"Special:Contributions/2001:1C02:2B22:F400:E9F0:B26A:30FE:6A8C\">2001:1C02:2B22:F400:E9F0:B26A:30FE:6A8C</a> - &quot;<span dir=\"auto\"><span class=\"autocomment\"><a href=\"/wiki/User_talk:Eyebeller#Monte_Carlo_edits\" title=\"User talk:Eyebeller\">→‎Monte Carlo edits</a>: </span> new section&quot;</span>|null     |en.wikipedia.org|/w                |https://en.wikipedia.org|1606331110|User talk:Eyebeller                             |edit|SineBot       |enwiki|\n",
            "|/mediawiki/recentchange/1.0.0|false|ce                                                                                                                                                                  |1324053746|null      |null              |null  |null      |null    |true |0        |ce                                                                                                                                                                                                                                                                                                                                                                                                               |null     |en.wikipedia.org|/w                |https://en.wikipedia.org|1606331111|Weekend (TV program)                            |edit|Nathan2055    |enwiki|\n",
            "|/mediawiki/recentchange/1.0.0|false|/* Representation */                                                                                                                                                |1324053747|null      |null              |null  |null      |null    |false|0        |<span dir=\"auto\"><span class=\"autocomment\"><a href=\"/wiki/North_Battleford_(provincial_electoral_district)#Representation\" title=\"North Battleford (provincial electoral district)\">→‎Representation</a></span></span>                                                                                                                                                                                           |null     |en.wikipedia.org|/w                |https://en.wikipedia.org|1606331110|North Battleford (provincial electoral district)|edit|MoonlightTulsi|enwiki|\n",
            "|/mediawiki/recentchange/1.0.0|true |Bot: Fixing double redirect to [[Belgian Shepherd]]                                                                                                                 |1324053748|null      |null              |null  |null      |null    |true |0        |Bot: Fixing double redirect to <a href=\"/wiki/Belgian_Shepherd\" title=\"Belgian Shepherd\">Belgian Shepherd</a>                                                                                                                                                                                                                                                                                                    |null     |en.wikipedia.org|/w                |https://en.wikipedia.org|1606331112|Terv                                            |edit|EmausBot      |enwiki|\n",
            "|/mediawiki/recentchange/1.0.0|true |[[User:Monkbot/task 18|Task 18 (cosmetic)]]: eval 6 templates: del empty params (2×); hyphenate params (4×);                                                        |1324053749|null      |null              |null  |null      |null    |true |0        |<a href=\"/wiki/User:Monkbot/task_18\" class=\"mw-redirect\" title=\"User:Monkbot/task 18\">Task 18 (cosmetic)</a>: eval 6 templates: del empty params (2×); hyphenate params (4×);                                                                                                                                                                                                                                    |null     |en.wikipedia.org|/w                |https://en.wikipedia.org|1606331110|Alexander Robey Shepherd                        |edit|Monkbot       |enwiki|\n",
            "+-----------------------------+-----+--------------------------------------------------------------------------------------------------------------------------------------------------------------------+----------+----------+------------------+------+----------+--------+-----+---------+-----------------------------------------------------------------------------------------------------------------------------------------------------------------------------------------------------------------------------------------------------------------------------------------------------------------------------------------------------------------------------------------------------------------+---------+----------------+------------------+------------------------+----------+------------------------------------------------+----+--------------+------+\n",
            "only showing top 5 rows\n",
            "\n"
          ],
          "name": "stdout"
        }
      ]
    },
    {
      "cell_type": "code",
      "metadata": {
        "id": "g0YAM3ibF4-L",
        "outputId": "2af162e9-4872-4e7b-dbf7-9df124fa84cb"
      },
      "source": [
        "user_changesdf.count()"
      ],
      "execution_count": null,
      "outputs": [
        {
          "output_type": "execute_result",
          "data": {
            "text/plain": [
              "40000"
            ]
          },
          "metadata": {
            "tags": []
          },
          "execution_count": 165
        }
      ]
    },
    {
      "cell_type": "code",
      "metadata": {
        "id": "XRJ9Cv5jF4-L",
        "outputId": "bb85db56-d445-4141-d183-62496b9bcadb"
      },
      "source": [
        "import pyspark.sql.functions as F\n",
        "cnt_cond = lambda cond: F.sum(F.when(cond, 1).otherwise(0))\n",
        "bot_matrix = user_changesdf.groupBy('bot').agg(\n",
        "    cnt_cond(F.col('bot') ==1 ).alias('is_bot'), \n",
        "    cnt_cond(F.col('bot') == 0).alias('is_user')\n",
        ")\n",
        "\n",
        "# this is the way to count how any true and false values are in column\n",
        "bot_matrix.show()\n",
        "\n",
        "is_bot = bot_matrix.first()['is_bot']\n",
        "is_user = bot_matrix.take(2)[1].__getitem__('is_user')\n",
        "print(is_bot, is_user)\n",
        "\n",
        "\n",
        "print(f'amount of bots in final data: {is_bot/(is_bot+is_user)*100}%')"
      ],
      "execution_count": null,
      "outputs": [
        {
          "output_type": "stream",
          "text": [
            "+-----+------+-------+\n",
            "|  bot|is_bot|is_user|\n",
            "+-----+------+-------+\n",
            "| true|  5037|      0|\n",
            "|false|     0|  34963|\n",
            "+-----+------+-------+\n",
            "\n",
            "5037 34963\n",
            "amount of bots in final data: 12.592500000000001%\n"
          ],
          "name": "stdout"
        }
      ]
    },
    {
      "cell_type": "markdown",
      "metadata": {
        "id": "cO9QtoCIF4-L"
      },
      "source": [
        "### final report\n",
        "\n",
        "\n",
        "the metric to evaluate our model was: area Under ROC, that is AUC, that is the metrics that show how well the model distinguishes between 2 classes. Training result of out model was 0.8884078385901295\n",
        "\n",
        "amount of bots in final data: 12.592500000000001%\n"
      ]
    },
    {
      "cell_type": "markdown",
      "metadata": {
        "id": "tSQbYZXPF4-L"
      },
      "source": [
        "## Streaming"
      ]
    },
    {
      "cell_type": "markdown",
      "metadata": {
        "id": "4CxJEnfSF4-M"
      },
      "source": [
        "at first we tried to set up kafka but we needed to add spark-streaming-kafka-0-8_2.11 to config and it didn't work for our project.\n",
        "\n",
        "if the project was on scala the kafka and streaming would be easier, because sbt allows config installation just by typing it in config."
      ]
    },
    {
      "cell_type": "markdown",
      "metadata": {
        "id": "wR4h34TCF4-M"
      },
      "source": [
        "## Distribution"
      ]
    },
    {
      "cell_type": "code",
      "metadata": {
        "id": "R3-ERoVGF4-M"
      },
      "source": [
        "# here we will take training data and show the distribution"
      ],
      "execution_count": null,
      "outputs": []
    },
    {
      "cell_type": "code",
      "metadata": {
        "id": "DztV10x2F4-M",
        "outputId": "04bc2a15-87e1-45a4-fed3-fed0168b4ed7"
      },
      "source": [
        "df.show(10, truncate=False)"
      ],
      "execution_count": null,
      "outputs": [
        {
          "output_type": "stream",
          "text": [
            "+-----------------------------+-----+----------------------------------------------------------------------------------------------------------------------------------------------------------------------------+----------+--------------+----------+------------------+------+----------+--------+-----+---------+-------------------------------------------------------------------------------------------------------------------------------------------------------------------------------------------------------------------------------------------------------------------------------------------------------------------------------------------------------------------------------+---------+----------------------+----------------+------------------+------------------------+----------+------------------------------------------------------------------------+----------+------------+------+-------+\n",
            "|$schema                      |bot  |comment                                                                                                                                                                     |id        |length        |log_action|log_action_comment|log_id|log_params|log_type|minor|namespace|parsedcomment                                                                                                                                                                                                                                                                                                                                                                  |patrolled|revision              |server_name     |server_script_path|server_url              |timestamp |title                                                                   |type      |user        |wiki  |bot_int|\n",
            "+-----------------------------+-----+----------------------------------------------------------------------------------------------------------------------------------------------------------------------------+----------+--------------+----------+------------------+------+----------+--------+-----+---------+-------------------------------------------------------------------------------------------------------------------------------------------------------------------------------------------------------------------------------------------------------------------------------------------------------------------------------------------------------------------------------+---------+----------------------+----------------+------------------+------------------------+----------+------------------------------------------------------------------------+----------+------------+------+-------+\n",
            "|/mediawiki/recentchange/1.0.0|false|/* Personal life */                                                                                                                                                         |1320859693|[40458, 40458]|null      |null              |null  |null      |null    |false|0        |<span dir=\"auto\"><span class=\"autocomment\"><a href=\"/wiki/Suggs_(singer)#Personal_life\" title=\"Suggs (singer)\">→‎Personal life</a></span></span>                                                                                                                                                                                                                               |null     |[988877717, 980481683]|en.wikipedia.org|/w                |https://en.wikipedia.org|1605470651|Suggs (singer)                                                          |edit      |RockNWrite82|enwiki|0      |\n",
            "|/mediawiki/recentchange/1.0.0|true |Removed parameters. | You can [[WP:UCB|use this bot]] yourself. [[WP:DBUG|Report bugs here]]. | Suggested by Abductive | [[Category:1944 films]] | via #UCB_Category 642/808|1320859685|[8789, 8812]  |null      |null              |null  |null      |null    |false|0        |Removed parameters. | You can <a href=\"/wiki/Wikipedia:UCB\" class=\"mw-redirect\" title=\"Wikipedia:UCB\">use this bot</a> yourself. <a href=\"/wiki/Wikipedia:DBUG\" class=\"mw-redirect\" title=\"Wikipedia:DBUG\">Report bugs here</a>. | Suggested by Abductive | <a href=\"/wiki/Category:1944_films\" title=\"Category:1944 films\">Category:1944 films</a> | via #UCB_Category 642/808|null     |[988877697, 983840174]|en.wikipedia.org|/w                |https://en.wikipedia.org|1605470643|Frenchman's Creek (film)                                                |edit      |Citation bot|enwiki|1      |\n",
            "|/mediawiki/recentchange/1.0.0|true |[[:Crash Goes the Hash]] removed from category, [[Special:WhatLinksHere/Crash Goes the Hash|this page is included within other pages]]                                      |1320859697|null          |null      |null              |null  |null      |null    |null |14       |<a href=\"/wiki/Crash_Goes_the_Hash\" title=\"Crash Goes the Hash\">Crash Goes the Hash</a> removed from category, <a href=\"/wiki/Special:WhatLinksHere/Crash_Goes_the_Hash\" title=\"Special:WhatLinksHere/Crash Goes the Hash\">this page is included within other pages</a>                                                                                                        |null     |null                  |en.wikipedia.org|/w                |https://en.wikipedia.org|1605470650|Category:CS1 errors: empty unknown parameters                           |categorize|Citation bot|enwiki|1      |\n",
            "|/mediawiki/recentchange/1.0.0|false|                                                                                                                                                                            |1320859699|[11683, 11683]|null      |null              |null  |null      |null    |false|4        |                                                                                                                                                                                                                                                                                                                                                                               |null     |[988877718, 988877665]|en.wikipedia.org|/w                |https://en.wikipedia.org|1605470651|Wikipedia:Articles for deletion/Presidency of Joe Biden (2nd nomination)|edit      |Reywas92    |enwiki|0      |\n",
            "|/mediawiki/recentchange/1.0.0|false|Reverted 1 edit by [[Special:Contributions/47.148.176.68|47.148.176.68]] ([[User talk:47.148.176.68|talk]]) to last revision by 96.5.139.3                                  |1320859703|[18530, 18527]|null      |null              |null  |null      |null    |true |0        |Reverted 1 edit by <a href=\"/wiki/Special:Contributions/47.148.176.68\" title=\"Special:Contributions/47.148.176.68\">47.148.176.68</a> (<a href=\"/w/index.php?title=User_talk:47.148.176.68&amp;action=edit&amp;redlink=1\" class=\"new\" title=\"User talk:47.148.176.68 (page does not exist)\">talk</a>) to last revision by 96.5.139.3                                            |null     |[988877716, 988870449]|en.wikipedia.org|/w                |https://en.wikipedia.org|1605470650|Pigeon post                                                             |edit      |Matt Deres  |enwiki|0      |\n",
            "|/mediawiki/recentchange/1.0.0|false|General note: Unconstructive editing on [[:Pigeon post]].                                                                                                                   |1320859749|[963,]        |null      |null              |null  |null      |null    |false|3        |General note: Unconstructive editing on <a href=\"/wiki/Pigeon_post\" title=\"Pigeon post\">Pigeon post</a>.                                                                                                                                                                                                                                                                       |false    |[988877736,]          |en.wikipedia.org|/w                |https://en.wikipedia.org|1605470657|User talk:47.148.176.68                                                 |new       |Matt Deres  |enwiki|0      |\n",
            "|/mediawiki/recentchange/1.0.0|false|[[:File:Armin van Buuren - Sunny Days (Club Mix).jpg]] added to category                                                                                                    |1320859754|null          |null      |null              |null  |null      |null    |null |14       |<a href=\"/wiki/File:Armin_van_Buuren_-_Sunny_Days_(Club_Mix).jpg\" title=\"File:Armin van Buuren - Sunny Days (Club Mix).jpg\">File:Armin van Buuren - Sunny Days (Club Mix).jpg</a> added to category                                                                                                                                                                            |null     |null                  |en.wikipedia.org|/w                |https://en.wikipedia.org|1605470657|Category:Wikipedia non-free files for NFUR review                       |categorize|Unistra     |enwiki|0      |\n",
            "|/mediawiki/recentchange/1.0.0|false|[[:Honduras national football team]] added to category, [[Special:WhatLinksHere/Honduras national football team|this page is included within other pages]]                  |1320859757|null          |null      |null              |null  |null      |null    |null |14       |<a href=\"/wiki/Honduras_national_football_team\" title=\"Honduras national football team\">Honduras national football team</a> added to category, <a href=\"/wiki/Special:WhatLinksHere/Honduras_national_football_team\" title=\"Special:WhatLinksHere/Honduras national football team\">this page is included within other pages</a>                                                |null     |null                  |en.wikipedia.org|/w                |https://en.wikipedia.org|1605470627|Category:Use dmy dates from November 2020                               |categorize|SpinnDoctor |enwiki|0      |\n",
            "|/mediawiki/recentchange/1.0.0|false|[[:Honduras national football team]] removed from category, [[Special:WhatLinksHere/Honduras national football team|this page is included within other pages]]              |1320859758|null          |null      |null              |null  |null      |null    |null |14       |<a href=\"/wiki/Honduras_national_football_team\" title=\"Honduras national football team\">Honduras national football team</a> removed from category, <a href=\"/wiki/Special:WhatLinksHere/Honduras_national_football_team\" title=\"Special:WhatLinksHere/Honduras national football team\">this page is included within other pages</a>                                            |null     |null                  |en.wikipedia.org|/w                |https://en.wikipedia.org|1605470627|Category:Use dmy dates from October 2020                                |categorize|SpinnDoctor |enwiki|0      |\n",
            "|/mediawiki/recentchange/1.0.0|false|/* Published works */                                                                                                                                                       |1320859761|[49044, 48874]|null      |null              |null  |null      |null    |false|0        |<span dir=\"auto\"><span class=\"autocomment\"><a href=\"/wiki/Ishmael_Reed#Published_works\" title=\"Ishmael Reed\">→‎Published works</a></span></span>                                                                                                                                                                                                                               |null     |[988877740, 988876677]|en.wikipedia.org|/w                |https://en.wikipedia.org|1605470659|Ishmael Reed                                                            |edit      |Skirtdancer |enwiki|0      |\n",
            "+-----------------------------+-----+----------------------------------------------------------------------------------------------------------------------------------------------------------------------------+----------+--------------+----------+------------------+------+----------+--------+-----+---------+-------------------------------------------------------------------------------------------------------------------------------------------------------------------------------------------------------------------------------------------------------------------------------------------------------------------------------------------------------------------------------+---------+----------------------+----------------+------------------+------------------------+----------+------------------------------------------------------------------------+----------+------------+------+-------+\n",
            "only showing top 10 rows\n",
            "\n"
          ],
          "name": "stdout"
        }
      ]
    },
    {
      "cell_type": "code",
      "metadata": {
        "id": "xvofkSBxF4-M",
        "outputId": "66560b14-e3da-4400-d0c6-221f238c41d0"
      },
      "source": [
        "import pandas as pd\n",
        "pandasDF = df.toPandas()\n",
        "pandasDF.head()"
      ],
      "execution_count": null,
      "outputs": [
        {
          "output_type": "execute_result",
          "data": {
            "text/html": [
              "<div>\n",
              "<style scoped>\n",
              "    .dataframe tbody tr th:only-of-type {\n",
              "        vertical-align: middle;\n",
              "    }\n",
              "\n",
              "    .dataframe tbody tr th {\n",
              "        vertical-align: top;\n",
              "    }\n",
              "\n",
              "    .dataframe thead th {\n",
              "        text-align: right;\n",
              "    }\n",
              "</style>\n",
              "<table border=\"1\" class=\"dataframe\">\n",
              "  <thead>\n",
              "    <tr style=\"text-align: right;\">\n",
              "      <th></th>\n",
              "      <th>$schema</th>\n",
              "      <th>bot</th>\n",
              "      <th>comment</th>\n",
              "      <th>id</th>\n",
              "      <th>length</th>\n",
              "      <th>log_action</th>\n",
              "      <th>log_action_comment</th>\n",
              "      <th>log_id</th>\n",
              "      <th>log_params</th>\n",
              "      <th>log_type</th>\n",
              "      <th>...</th>\n",
              "      <th>revision</th>\n",
              "      <th>server_name</th>\n",
              "      <th>server_script_path</th>\n",
              "      <th>server_url</th>\n",
              "      <th>timestamp</th>\n",
              "      <th>title</th>\n",
              "      <th>type</th>\n",
              "      <th>user</th>\n",
              "      <th>wiki</th>\n",
              "      <th>bot_int</th>\n",
              "    </tr>\n",
              "  </thead>\n",
              "  <tbody>\n",
              "    <tr>\n",
              "      <th>0</th>\n",
              "      <td>/mediawiki/recentchange/1.0.0</td>\n",
              "      <td>False</td>\n",
              "      <td>/* Personal life */</td>\n",
              "      <td>1.320860e+09</td>\n",
              "      <td>(40458, 40458)</td>\n",
              "      <td>None</td>\n",
              "      <td>None</td>\n",
              "      <td>NaN</td>\n",
              "      <td>None</td>\n",
              "      <td>None</td>\n",
              "      <td>...</td>\n",
              "      <td>(988877717, 980481683)</td>\n",
              "      <td>en.wikipedia.org</td>\n",
              "      <td>/w</td>\n",
              "      <td>https://en.wikipedia.org</td>\n",
              "      <td>1605470651</td>\n",
              "      <td>Suggs (singer)</td>\n",
              "      <td>edit</td>\n",
              "      <td>RockNWrite82</td>\n",
              "      <td>enwiki</td>\n",
              "      <td>0</td>\n",
              "    </tr>\n",
              "    <tr>\n",
              "      <th>1</th>\n",
              "      <td>/mediawiki/recentchange/1.0.0</td>\n",
              "      <td>True</td>\n",
              "      <td>Removed parameters. | You can [[WP:UCB|use thi...</td>\n",
              "      <td>1.320860e+09</td>\n",
              "      <td>(8789, 8812)</td>\n",
              "      <td>None</td>\n",
              "      <td>None</td>\n",
              "      <td>NaN</td>\n",
              "      <td>None</td>\n",
              "      <td>None</td>\n",
              "      <td>...</td>\n",
              "      <td>(988877697, 983840174)</td>\n",
              "      <td>en.wikipedia.org</td>\n",
              "      <td>/w</td>\n",
              "      <td>https://en.wikipedia.org</td>\n",
              "      <td>1605470643</td>\n",
              "      <td>Frenchman's Creek (film)</td>\n",
              "      <td>edit</td>\n",
              "      <td>Citation bot</td>\n",
              "      <td>enwiki</td>\n",
              "      <td>1</td>\n",
              "    </tr>\n",
              "    <tr>\n",
              "      <th>2</th>\n",
              "      <td>/mediawiki/recentchange/1.0.0</td>\n",
              "      <td>True</td>\n",
              "      <td>[[:Crash Goes the Hash]] removed from category...</td>\n",
              "      <td>1.320860e+09</td>\n",
              "      <td>None</td>\n",
              "      <td>None</td>\n",
              "      <td>None</td>\n",
              "      <td>NaN</td>\n",
              "      <td>None</td>\n",
              "      <td>None</td>\n",
              "      <td>...</td>\n",
              "      <td>None</td>\n",
              "      <td>en.wikipedia.org</td>\n",
              "      <td>/w</td>\n",
              "      <td>https://en.wikipedia.org</td>\n",
              "      <td>1605470650</td>\n",
              "      <td>Category:CS1 errors: empty unknown parameters</td>\n",
              "      <td>categorize</td>\n",
              "      <td>Citation bot</td>\n",
              "      <td>enwiki</td>\n",
              "      <td>1</td>\n",
              "    </tr>\n",
              "    <tr>\n",
              "      <th>3</th>\n",
              "      <td>/mediawiki/recentchange/1.0.0</td>\n",
              "      <td>False</td>\n",
              "      <td></td>\n",
              "      <td>1.320860e+09</td>\n",
              "      <td>(11683, 11683)</td>\n",
              "      <td>None</td>\n",
              "      <td>None</td>\n",
              "      <td>NaN</td>\n",
              "      <td>None</td>\n",
              "      <td>None</td>\n",
              "      <td>...</td>\n",
              "      <td>(988877718, 988877665)</td>\n",
              "      <td>en.wikipedia.org</td>\n",
              "      <td>/w</td>\n",
              "      <td>https://en.wikipedia.org</td>\n",
              "      <td>1605470651</td>\n",
              "      <td>Wikipedia:Articles for deletion/Presidency of ...</td>\n",
              "      <td>edit</td>\n",
              "      <td>Reywas92</td>\n",
              "      <td>enwiki</td>\n",
              "      <td>0</td>\n",
              "    </tr>\n",
              "    <tr>\n",
              "      <th>4</th>\n",
              "      <td>/mediawiki/recentchange/1.0.0</td>\n",
              "      <td>False</td>\n",
              "      <td>Reverted 1 edit by [[Special:Contributions/47....</td>\n",
              "      <td>1.320860e+09</td>\n",
              "      <td>(18530, 18527)</td>\n",
              "      <td>None</td>\n",
              "      <td>None</td>\n",
              "      <td>NaN</td>\n",
              "      <td>None</td>\n",
              "      <td>None</td>\n",
              "      <td>...</td>\n",
              "      <td>(988877716, 988870449)</td>\n",
              "      <td>en.wikipedia.org</td>\n",
              "      <td>/w</td>\n",
              "      <td>https://en.wikipedia.org</td>\n",
              "      <td>1605470650</td>\n",
              "      <td>Pigeon post</td>\n",
              "      <td>edit</td>\n",
              "      <td>Matt Deres</td>\n",
              "      <td>enwiki</td>\n",
              "      <td>0</td>\n",
              "    </tr>\n",
              "  </tbody>\n",
              "</table>\n",
              "<p>5 rows × 24 columns</p>\n",
              "</div>"
            ],
            "text/plain": [
              "                         $schema    bot  \\\n",
              "0  /mediawiki/recentchange/1.0.0  False   \n",
              "1  /mediawiki/recentchange/1.0.0   True   \n",
              "2  /mediawiki/recentchange/1.0.0   True   \n",
              "3  /mediawiki/recentchange/1.0.0  False   \n",
              "4  /mediawiki/recentchange/1.0.0  False   \n",
              "\n",
              "                                             comment            id  \\\n",
              "0                                /* Personal life */  1.320860e+09   \n",
              "1  Removed parameters. | You can [[WP:UCB|use thi...  1.320860e+09   \n",
              "2  [[:Crash Goes the Hash]] removed from category...  1.320860e+09   \n",
              "3                                                     1.320860e+09   \n",
              "4  Reverted 1 edit by [[Special:Contributions/47....  1.320860e+09   \n",
              "\n",
              "           length log_action log_action_comment  log_id log_params log_type  \\\n",
              "0  (40458, 40458)       None               None     NaN       None     None   \n",
              "1    (8789, 8812)       None               None     NaN       None     None   \n",
              "2            None       None               None     NaN       None     None   \n",
              "3  (11683, 11683)       None               None     NaN       None     None   \n",
              "4  (18530, 18527)       None               None     NaN       None     None   \n",
              "\n",
              "   ...                revision       server_name server_script_path  \\\n",
              "0  ...  (988877717, 980481683)  en.wikipedia.org                 /w   \n",
              "1  ...  (988877697, 983840174)  en.wikipedia.org                 /w   \n",
              "2  ...                    None  en.wikipedia.org                 /w   \n",
              "3  ...  (988877718, 988877665)  en.wikipedia.org                 /w   \n",
              "4  ...  (988877716, 988870449)  en.wikipedia.org                 /w   \n",
              "\n",
              "                 server_url   timestamp  \\\n",
              "0  https://en.wikipedia.org  1605470651   \n",
              "1  https://en.wikipedia.org  1605470643   \n",
              "2  https://en.wikipedia.org  1605470650   \n",
              "3  https://en.wikipedia.org  1605470651   \n",
              "4  https://en.wikipedia.org  1605470650   \n",
              "\n",
              "                                               title        type  \\\n",
              "0                                     Suggs (singer)        edit   \n",
              "1                           Frenchman's Creek (film)        edit   \n",
              "2      Category:CS1 errors: empty unknown parameters  categorize   \n",
              "3  Wikipedia:Articles for deletion/Presidency of ...        edit   \n",
              "4                                        Pigeon post        edit   \n",
              "\n",
              "           user    wiki bot_int  \n",
              "0  RockNWrite82  enwiki       0  \n",
              "1  Citation bot  enwiki       1  \n",
              "2  Citation bot  enwiki       1  \n",
              "3      Reywas92  enwiki       0  \n",
              "4    Matt Deres  enwiki       0  \n",
              "\n",
              "[5 rows x 24 columns]"
            ]
          },
          "metadata": {
            "tags": []
          },
          "execution_count": 153
        }
      ]
    },
    {
      "cell_type": "code",
      "metadata": {
        "id": "ZYnOa4mLF4-N"
      },
      "source": [
        "# hist = pandasDF.hist(column = 'bot_int', legend = True)"
      ],
      "execution_count": null,
      "outputs": []
    },
    {
      "cell_type": "code",
      "metadata": {
        "id": "bEzSInVPF4-N",
        "outputId": "c7243138-b7c1-46f7-c963-b9751d1e5476"
      },
      "source": [
        "pandasDF['bot'].value_counts().plot(kind='bar', legend=True, title = \"distribution of edits for users and bots\")"
      ],
      "execution_count": null,
      "outputs": [
        {
          "output_type": "execute_result",
          "data": {
            "text/plain": [
              "<AxesSubplot:title={'center':'distribution of edits for users and bots'}>"
            ]
          },
          "metadata": {
            "tags": []
          },
          "execution_count": 161
        },
        {
          "output_type": "display_data",
          "data": {
            "image/png": "[encoded data removed]",
            "text/plain": [
              "<Figure size 432x288 with 1 Axes>"
            ]
          },
          "metadata": {
            "tags": [],
            "needs_background": "light"
          }
        }
      ]
    },
    {
      "cell_type": "markdown",
      "metadata": {
        "scrolled": false,
        "id": "q5Y_hdxLF4-N"
      },
      "source": [
        "The data is skewed hardly to the users: there are way more users than bots and the model we have chosed distringuishes well among them, so the model is good"
      ]
    },
    {
      "cell_type": "markdown",
      "metadata": {
        "id": "dJ_2wtptF4-N"
      },
      "source": [
        "## Further ideas"
      ]
    },
    {
      "cell_type": "markdown",
      "metadata": {
        "id": "PcFsg7UyF4-N"
      },
      "source": [
        "Because user naming was directly having \"Bot\" in bots profile we were not be able to use it because of target leakage.\n",
        "However we could implement time based bloom filters for bots if could use hashed username (or uuid) for instance.\n",
        "The idea is based on concept that bot often can do a lot of edits on different pages in small timeframe.\n",
        "\n",
        "If we could use user name (for identification) for training we could use 5 second bloom filters which would store all usernames which done editing in given time frame. If user appears in such filter twice it is probable that such edit is done by bot - it is hard to make chages to page for human in 5 seconds.\n",
        "\n",
        "Also bots do not use IP adress as their user name. Unfortenatally we cannot use this property as a feature, so it is also left unused."
      ]
    }
  ]
}